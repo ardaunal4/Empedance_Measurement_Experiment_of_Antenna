{
 "cells": [
  {
   "cell_type": "code",
   "execution_count": 1,
   "metadata": {},
   "outputs": [],
   "source": [
    "import numpy as np\n",
    "import pandas as pd\n",
    "import matplotlib.pyplot as plt\n",
    "from decimal import Decimal\n",
    "import math\n",
    "from sklearn.linear_model import LinearRegression"
   ]
  },
  {
   "cell_type": "code",
   "execution_count": 2,
   "metadata": {
    "scrolled": true
   },
   "outputs": [
    {
     "name": "stdout",
     "output_type": "stream",
     "text": [
      "<class 'pandas.core.frame.DataFrame'>\n",
      "RangeIndex: 15049 entries, 0 to 15048\n",
      "Data columns (total 5 columns):\n",
      " #   Column            Non-Null Count  Dtype  \n",
      "---  ------            --------------  -----  \n",
      " 0   time              15049 non-null  object \n",
      " 1   voltage_level[V]  15049 non-null  int64  \n",
      " 2   width[percent]    15049 non-null  int64  \n",
      " 3   input[V]          15049 non-null  float64\n",
      " 4   output[V]         15049 non-null  float64\n",
      "dtypes: float64(2), int64(2), object(1)\n",
      "memory usage: 588.0+ KB\n"
     ]
    }
   ],
   "source": [
    "data = pd.read_csv(\"corrected_data.csv\")\n",
    "data.info()"
   ]
  },
  {
   "cell_type": "code",
   "execution_count": 3,
   "metadata": {},
   "outputs": [
    {
     "data": {
      "text/html": [
       "<div>\n",
       "<style scoped>\n",
       "    .dataframe tbody tr th:only-of-type {\n",
       "        vertical-align: middle;\n",
       "    }\n",
       "\n",
       "    .dataframe tbody tr th {\n",
       "        vertical-align: top;\n",
       "    }\n",
       "\n",
       "    .dataframe thead th {\n",
       "        text-align: right;\n",
       "    }\n",
       "</style>\n",
       "<table border=\"1\" class=\"dataframe\">\n",
       "  <thead>\n",
       "    <tr style=\"text-align: right;\">\n",
       "      <th></th>\n",
       "      <th>time</th>\n",
       "      <th>voltage_level[V]</th>\n",
       "      <th>width[percent]</th>\n",
       "      <th>input[V]</th>\n",
       "      <th>output[V]</th>\n",
       "    </tr>\n",
       "  </thead>\n",
       "  <tbody>\n",
       "    <tr>\n",
       "      <th>14960</th>\n",
       "      <td>21:21:25</td>\n",
       "      <td>25</td>\n",
       "      <td>70</td>\n",
       "      <td>16.714675</td>\n",
       "      <td>1.635115</td>\n",
       "    </tr>\n",
       "    <tr>\n",
       "      <th>14961</th>\n",
       "      <td>21:21:27</td>\n",
       "      <td>25</td>\n",
       "      <td>70</td>\n",
       "      <td>16.728416</td>\n",
       "      <td>1.635087</td>\n",
       "    </tr>\n",
       "    <tr>\n",
       "      <th>14962</th>\n",
       "      <td>21:21:29</td>\n",
       "      <td>25</td>\n",
       "      <td>70</td>\n",
       "      <td>16.713248</td>\n",
       "      <td>1.635134</td>\n",
       "    </tr>\n",
       "    <tr>\n",
       "      <th>14963</th>\n",
       "      <td>21:21:39</td>\n",
       "      <td>25</td>\n",
       "      <td>80</td>\n",
       "      <td>19.928523</td>\n",
       "      <td>1.948411</td>\n",
       "    </tr>\n",
       "    <tr>\n",
       "      <th>14964</th>\n",
       "      <td>21:21:41</td>\n",
       "      <td>25</td>\n",
       "      <td>80</td>\n",
       "      <td>19.929038</td>\n",
       "      <td>1.948384</td>\n",
       "    </tr>\n",
       "    <tr>\n",
       "      <th>...</th>\n",
       "      <td>...</td>\n",
       "      <td>...</td>\n",
       "      <td>...</td>\n",
       "      <td>...</td>\n",
       "      <td>...</td>\n",
       "    </tr>\n",
       "    <tr>\n",
       "      <th>15044</th>\n",
       "      <td>21:24:21</td>\n",
       "      <td>25</td>\n",
       "      <td>80</td>\n",
       "      <td>19.940912</td>\n",
       "      <td>1.948149</td>\n",
       "    </tr>\n",
       "    <tr>\n",
       "      <th>15045</th>\n",
       "      <td>21:24:23</td>\n",
       "      <td>25</td>\n",
       "      <td>80</td>\n",
       "      <td>19.941192</td>\n",
       "      <td>1.948104</td>\n",
       "    </tr>\n",
       "    <tr>\n",
       "      <th>15046</th>\n",
       "      <td>21:24:25</td>\n",
       "      <td>25</td>\n",
       "      <td>80</td>\n",
       "      <td>19.941300</td>\n",
       "      <td>1.948086</td>\n",
       "    </tr>\n",
       "    <tr>\n",
       "      <th>15047</th>\n",
       "      <td>21:24:27</td>\n",
       "      <td>25</td>\n",
       "      <td>80</td>\n",
       "      <td>19.941059</td>\n",
       "      <td>1.948088</td>\n",
       "    </tr>\n",
       "    <tr>\n",
       "      <th>15048</th>\n",
       "      <td>21:24:29</td>\n",
       "      <td>25</td>\n",
       "      <td>80</td>\n",
       "      <td>19.940657</td>\n",
       "      <td>1.948098</td>\n",
       "    </tr>\n",
       "  </tbody>\n",
       "</table>\n",
       "<p>89 rows × 5 columns</p>\n",
       "</div>"
      ],
      "text/plain": [
       "           time  voltage_level[V]  width[percent]   input[V]  output[V]\n",
       "14960  21:21:25                25              70  16.714675   1.635115\n",
       "14961  21:21:27                25              70  16.728416   1.635087\n",
       "14962  21:21:29                25              70  16.713248   1.635134\n",
       "14963  21:21:39                25              80  19.928523   1.948411\n",
       "14964  21:21:41                25              80  19.929038   1.948384\n",
       "...         ...               ...             ...        ...        ...\n",
       "15044  21:24:21                25              80  19.940912   1.948149\n",
       "15045  21:24:23                25              80  19.941192   1.948104\n",
       "15046  21:24:25                25              80  19.941300   1.948086\n",
       "15047  21:24:27                25              80  19.941059   1.948088\n",
       "15048  21:24:29                25              80  19.940657   1.948098\n",
       "\n",
       "[89 rows x 5 columns]"
      ]
     },
     "execution_count": 3,
     "metadata": {},
     "output_type": "execute_result"
    }
   ],
   "source": [
    "data.tail(89)"
   ]
  },
  {
   "cell_type": "code",
   "execution_count": 4,
   "metadata": {},
   "outputs": [
    {
     "name": "stdout",
     "output_type": "stream",
     "text": [
      "0         0.168269\n",
      "1         0.168242\n",
      "2         0.168273\n",
      "3         0.168255\n",
      "4         0.168271\n",
      "           ...    \n",
      "15044    19.481495\n",
      "15045    19.481043\n",
      "15046    19.480860\n",
      "15047    19.480876\n",
      "15048    19.480983\n",
      "Name: output[V], Length: 15049, dtype: float64\n"
     ]
    }
   ],
   "source": [
    "widths = [\"20\", \"30\", \"40\", \"50\", \"60\", \"70\", \"80\"]\n",
    "voltages =  [i+1 for i in range(25)]\n",
    "data[\"output[V]\"] = [i*10 for i in data[\"output[V]\"]]\n",
    "print(data[\"output[V]\"])"
   ]
  },
  {
   "cell_type": "code",
   "execution_count": 5,
   "metadata": {},
   "outputs": [
    {
     "data": {
      "text/html": [
       "<div>\n",
       "<style scoped>\n",
       "    .dataframe tbody tr th:only-of-type {\n",
       "        vertical-align: middle;\n",
       "    }\n",
       "\n",
       "    .dataframe tbody tr th {\n",
       "        vertical-align: top;\n",
       "    }\n",
       "\n",
       "    .dataframe thead th {\n",
       "        text-align: right;\n",
       "    }\n",
       "</style>\n",
       "<table border=\"1\" class=\"dataframe\">\n",
       "  <thead>\n",
       "    <tr style=\"text-align: right;\">\n",
       "      <th></th>\n",
       "      <th>time</th>\n",
       "      <th>voltage_level[V]</th>\n",
       "      <th>width[percent]</th>\n",
       "      <th>input[V]</th>\n",
       "      <th>output[V]</th>\n",
       "    </tr>\n",
       "  </thead>\n",
       "  <tbody>\n",
       "    <tr>\n",
       "      <th>0</th>\n",
       "      <td>12:39:41</td>\n",
       "      <td>1</td>\n",
       "      <td>20</td>\n",
       "      <td>0.174552</td>\n",
       "      <td>0.168269</td>\n",
       "    </tr>\n",
       "    <tr>\n",
       "      <th>1</th>\n",
       "      <td>12:39:43</td>\n",
       "      <td>1</td>\n",
       "      <td>20</td>\n",
       "      <td>0.174514</td>\n",
       "      <td>0.168242</td>\n",
       "    </tr>\n",
       "    <tr>\n",
       "      <th>2</th>\n",
       "      <td>12:39:45</td>\n",
       "      <td>1</td>\n",
       "      <td>20</td>\n",
       "      <td>0.174514</td>\n",
       "      <td>0.168273</td>\n",
       "    </tr>\n",
       "    <tr>\n",
       "      <th>3</th>\n",
       "      <td>12:39:47</td>\n",
       "      <td>1</td>\n",
       "      <td>20</td>\n",
       "      <td>0.174536</td>\n",
       "      <td>0.168255</td>\n",
       "    </tr>\n",
       "    <tr>\n",
       "      <th>4</th>\n",
       "      <td>12:39:49</td>\n",
       "      <td>1</td>\n",
       "      <td>20</td>\n",
       "      <td>0.174517</td>\n",
       "      <td>0.168271</td>\n",
       "    </tr>\n",
       "  </tbody>\n",
       "</table>\n",
       "</div>"
      ],
      "text/plain": [
       "       time  voltage_level[V]  width[percent]  input[V]  output[V]\n",
       "0  12:39:41                 1              20  0.174552   0.168269\n",
       "1  12:39:43                 1              20  0.174514   0.168242\n",
       "2  12:39:45                 1              20  0.174514   0.168273\n",
       "3  12:39:47                 1              20  0.174536   0.168255\n",
       "4  12:39:49                 1              20  0.174517   0.168271"
      ]
     },
     "execution_count": 5,
     "metadata": {},
     "output_type": "execute_result"
    }
   ],
   "source": [
    "data.head()"
   ]
  },
  {
   "cell_type": "code",
   "execution_count": 6,
   "metadata": {},
   "outputs": [],
   "source": [
    "def std_calc(list_of_voltages):\n",
    "    sum_square = 0\n",
    "    summ = 0\n",
    "    counter = 0\n",
    "    \n",
    "    for item in list_of_voltages:\n",
    "        \n",
    "        counter += 1\n",
    "        sum_square += item**2\n",
    "        summ += item\n",
    "        \n",
    "    value = abs(sum_square/counter - (summ/counter)**2)\n",
    "    \n",
    "    if value != 0:\n",
    "        std = np.sqrt(value)\n",
    "    else:\n",
    "        std = 0\n",
    "        \n",
    "    return std"
   ]
  },
  {
   "cell_type": "code",
   "execution_count": 7,
   "metadata": {},
   "outputs": [],
   "source": [
    "features = [\"voltage_level[V]\", \"width[percent]\", \"input[V]\", \"output[V]\"]"
   ]
  },
  {
   "cell_type": "code",
   "execution_count": 8,
   "metadata": {},
   "outputs": [],
   "source": [
    "mean_dictionary = {\"voltage_level[V]\":[], \"width[percent]\":[], \"input[V]\":[], \"output[V]\":[]}\n",
    "std_dictionary = {\"std_input[V]\":[], \"std_output[V]\":[]}"
   ]
  },
  {
   "cell_type": "code",
   "execution_count": 9,
   "metadata": {},
   "outputs": [],
   "source": [
    "for volt in voltages:\n",
    "    filter1 = data[\"voltage_level[V]\"] == volt\n",
    "    data1 = data[filter1]\n",
    "    for width in widths:\n",
    "        filter2 = data1[\"width[percent]\"] == int(width)\n",
    "        data2 = data1[filter2]\n",
    "        for feature in features:\n",
    "            part = [i for i in data2[feature]]\n",
    "            mean = np.mean(part)\n",
    "            mean_dictionary[feature].append(mean)\n",
    "            if feature == \"input[V]\":\n",
    "                std = std_calc(part)\n",
    "                std_feature = \"std_input[V]\"\n",
    "                std_dictionary[std_feature].append(std)\n",
    "            elif feature == \"output[V]\":\n",
    "                std = std_calc(part)\n",
    "                std_feature = \"std_output[V]\"\n",
    "                std_dictionary[std_feature].append(std)"
   ]
  },
  {
   "cell_type": "code",
   "execution_count": 10,
   "metadata": {},
   "outputs": [],
   "source": [
    "analysis_dict = {\"voltage_level[V]\":mean_dictionary[\"voltage_level[V]\"], \"width[percent]\":mean_dictionary[\"width[percent]\"], \n",
    "                 \"input[V]\":mean_dictionary[\"input[V]\"], \"output[V]\":mean_dictionary[\"output[V]\"], \n",
    "                 \"std_input[V]\":std_dictionary[\"std_input[V]\"], \"std_output[V]\":std_dictionary[\"std_output[V]\"]}\n",
    "features1 = [\"voltage_level[V]\", \"width[percent]\", \"input[V]\", \"output[V]\", \"std_input[V]\", \"std_output[V]\"]"
   ]
  },
  {
   "cell_type": "code",
   "execution_count": 11,
   "metadata": {
    "scrolled": true
   },
   "outputs": [
    {
     "name": "stdout",
     "output_type": "stream",
     "text": [
      "<class 'pandas.core.frame.DataFrame'>\n",
      "RangeIndex: 175 entries, 0 to 174\n",
      "Data columns (total 6 columns):\n",
      " #   Column            Non-Null Count  Dtype  \n",
      "---  ------            --------------  -----  \n",
      " 0   voltage_level[V]  175 non-null    float64\n",
      " 1   width[percent]    175 non-null    float64\n",
      " 2   input[V]          175 non-null    float64\n",
      " 3   output[V]         175 non-null    float64\n",
      " 4   std_input[V]      175 non-null    float64\n",
      " 5   std_output[V]     175 non-null    float64\n",
      "dtypes: float64(6)\n",
      "memory usage: 8.3 KB\n"
     ]
    }
   ],
   "source": [
    "dataFrame = pd.DataFrame(analysis_dict, columns = features1)\n",
    "dataFrame.info()"
   ]
  },
  {
   "cell_type": "code",
   "execution_count": 12,
   "metadata": {},
   "outputs": [
    {
     "data": {
      "text/html": [
       "<div>\n",
       "<style scoped>\n",
       "    .dataframe tbody tr th:only-of-type {\n",
       "        vertical-align: middle;\n",
       "    }\n",
       "\n",
       "    .dataframe tbody tr th {\n",
       "        vertical-align: top;\n",
       "    }\n",
       "\n",
       "    .dataframe thead th {\n",
       "        text-align: right;\n",
       "    }\n",
       "</style>\n",
       "<table border=\"1\" class=\"dataframe\">\n",
       "  <thead>\n",
       "    <tr style=\"text-align: right;\">\n",
       "      <th></th>\n",
       "      <th>voltage_level[V]</th>\n",
       "      <th>width[percent]</th>\n",
       "      <th>input[V]</th>\n",
       "      <th>output[V]</th>\n",
       "      <th>std_input[V]</th>\n",
       "      <th>std_output[V]</th>\n",
       "    </tr>\n",
       "  </thead>\n",
       "  <tbody>\n",
       "    <tr>\n",
       "      <th>0</th>\n",
       "      <td>1.0</td>\n",
       "      <td>20.0</td>\n",
       "      <td>0.174508</td>\n",
       "      <td>0.168239</td>\n",
       "      <td>0.000035</td>\n",
       "      <td>0.000035</td>\n",
       "    </tr>\n",
       "    <tr>\n",
       "      <th>1</th>\n",
       "      <td>1.0</td>\n",
       "      <td>30.0</td>\n",
       "      <td>0.305311</td>\n",
       "      <td>0.294328</td>\n",
       "      <td>0.000039</td>\n",
       "      <td>0.000037</td>\n",
       "    </tr>\n",
       "    <tr>\n",
       "      <th>2</th>\n",
       "      <td>1.0</td>\n",
       "      <td>40.0</td>\n",
       "      <td>0.403873</td>\n",
       "      <td>0.389338</td>\n",
       "      <td>0.000052</td>\n",
       "      <td>0.000051</td>\n",
       "    </tr>\n",
       "    <tr>\n",
       "      <th>3</th>\n",
       "      <td>1.0</td>\n",
       "      <td>50.0</td>\n",
       "      <td>0.493314</td>\n",
       "      <td>0.475571</td>\n",
       "      <td>0.000072</td>\n",
       "      <td>0.000062</td>\n",
       "    </tr>\n",
       "    <tr>\n",
       "      <th>4</th>\n",
       "      <td>1.0</td>\n",
       "      <td>60.0</td>\n",
       "      <td>0.582657</td>\n",
       "      <td>0.561728</td>\n",
       "      <td>0.000069</td>\n",
       "      <td>0.000065</td>\n",
       "    </tr>\n",
       "    <tr>\n",
       "      <th>5</th>\n",
       "      <td>1.0</td>\n",
       "      <td>70.0</td>\n",
       "      <td>0.680745</td>\n",
       "      <td>0.656406</td>\n",
       "      <td>0.000132</td>\n",
       "      <td>0.000113</td>\n",
       "    </tr>\n",
       "    <tr>\n",
       "      <th>6</th>\n",
       "      <td>1.0</td>\n",
       "      <td>80.0</td>\n",
       "      <td>0.809965</td>\n",
       "      <td>0.781517</td>\n",
       "      <td>0.000129</td>\n",
       "      <td>0.000093</td>\n",
       "    </tr>\n",
       "    <tr>\n",
       "      <th>7</th>\n",
       "      <td>2.0</td>\n",
       "      <td>20.0</td>\n",
       "      <td>0.347398</td>\n",
       "      <td>0.334901</td>\n",
       "      <td>0.000068</td>\n",
       "      <td>0.000066</td>\n",
       "    </tr>\n",
       "    <tr>\n",
       "      <th>8</th>\n",
       "      <td>2.0</td>\n",
       "      <td>30.0</td>\n",
       "      <td>0.608937</td>\n",
       "      <td>0.587085</td>\n",
       "      <td>0.000052</td>\n",
       "      <td>0.000044</td>\n",
       "    </tr>\n",
       "    <tr>\n",
       "      <th>9</th>\n",
       "      <td>2.0</td>\n",
       "      <td>40.0</td>\n",
       "      <td>0.805344</td>\n",
       "      <td>0.777036</td>\n",
       "      <td>0.000091</td>\n",
       "      <td>0.000055</td>\n",
       "    </tr>\n",
       "  </tbody>\n",
       "</table>\n",
       "</div>"
      ],
      "text/plain": [
       "   voltage_level[V]  width[percent]  input[V]  output[V]  std_input[V]  \\\n",
       "0               1.0            20.0  0.174508   0.168239      0.000035   \n",
       "1               1.0            30.0  0.305311   0.294328      0.000039   \n",
       "2               1.0            40.0  0.403873   0.389338      0.000052   \n",
       "3               1.0            50.0  0.493314   0.475571      0.000072   \n",
       "4               1.0            60.0  0.582657   0.561728      0.000069   \n",
       "5               1.0            70.0  0.680745   0.656406      0.000132   \n",
       "6               1.0            80.0  0.809965   0.781517      0.000129   \n",
       "7               2.0            20.0  0.347398   0.334901      0.000068   \n",
       "8               2.0            30.0  0.608937   0.587085      0.000052   \n",
       "9               2.0            40.0  0.805344   0.777036      0.000091   \n",
       "\n",
       "   std_output[V]  \n",
       "0       0.000035  \n",
       "1       0.000037  \n",
       "2       0.000051  \n",
       "3       0.000062  \n",
       "4       0.000065  \n",
       "5       0.000113  \n",
       "6       0.000093  \n",
       "7       0.000066  \n",
       "8       0.000044  \n",
       "9       0.000055  "
      ]
     },
     "execution_count": 12,
     "metadata": {},
     "output_type": "execute_result"
    }
   ],
   "source": [
    "dataFrame.head(10)"
   ]
  },
  {
   "cell_type": "code",
   "execution_count": 13,
   "metadata": {},
   "outputs": [],
   "source": [
    "currents = [i/50 for i in dataFrame[\"output[V]\"]]\n",
    "std_current = [i/50 for i in dataFrame[\"std_output[V]\"]]"
   ]
  },
  {
   "cell_type": "code",
   "execution_count": 14,
   "metadata": {},
   "outputs": [],
   "source": [
    "input_volt = dataFrame[\"input[V]\"].values\n",
    "output_volt = dataFrame[\"output[V]\"].values\n",
    "std_input =  dataFrame['std_input[V]'].values\n",
    "std_output = dataFrame[\"std_output[V]\"].values"
   ]
  },
  {
   "cell_type": "code",
   "execution_count": 15,
   "metadata": {
    "scrolled": true
   },
   "outputs": [],
   "source": [
    "std_volts = []\n",
    "for i in range(len(currents)):\n",
    "    std = math.sqrt((std_input[i])**2 + (std_output[i])**2 )\n",
    "    std_volts.append(std)"
   ]
  },
  {
   "cell_type": "code",
   "execution_count": 16,
   "metadata": {},
   "outputs": [],
   "source": [
    "combine_std_percent = []\n",
    "volt_diff = []\n",
    "for i in range(len(currents)):\n",
    "    volt_diff.append(input_volt[i] - output_volt[i])\n",
    "for i in range(len(currents)):\n",
    "    voltage = (std_volts[i]/volt_diff[i])**2\n",
    "    current = (std_current[i]/currents[i])**2\n",
    "    deltaQ = math.sqrt(voltage + current)\n",
    "    combine_std_percent.append(deltaQ)"
   ]
  },
  {
   "cell_type": "code",
   "execution_count": 17,
   "metadata": {
    "scrolled": false
   },
   "outputs": [
    {
     "data": {
      "text/plain": [
       "175"
      ]
     },
     "execution_count": 17,
     "metadata": {},
     "output_type": "execute_result"
    }
   ],
   "source": [
    "len(combine_std_percent)"
   ]
  },
  {
   "cell_type": "code",
   "execution_count": 18,
   "metadata": {},
   "outputs": [],
   "source": [
    "widths = [\"20\", \"30\", \"40\", \"50\", \"60\", \"70\", \"80\"]\n",
    "voltages =  [i+1 for i in range(25)]\n",
    "x_label = []\n",
    "i = 0\n",
    "for volt in voltages:\n",
    "    for width in widths:\n",
    "        i += 1\n",
    "        x_label.append(i)"
   ]
  },
  {
   "cell_type": "code",
   "execution_count": 19,
   "metadata": {},
   "outputs": [
    {
     "data": {
      "text/plain": [
       "175"
      ]
     },
     "execution_count": 19,
     "metadata": {},
     "output_type": "execute_result"
    }
   ],
   "source": [
    "resistance_values = []\n",
    "for i in range(len(currents)):\n",
    "    res = (input_volt[i] - output_volt[i]) / currents[i]\n",
    "    resistance_values.append(res)\n",
    "len(resistance_values)"
   ]
  },
  {
   "cell_type": "code",
   "execution_count": 20,
   "metadata": {},
   "outputs": [
    {
     "data": {
      "image/png": "[encoded data removed]",
      "text/plain": [
       "<Figure size 720x576 with 1 Axes>"
      ]
     },
     "metadata": {
      "needs_background": "light"
     },
     "output_type": "display_data"
    }
   ],
   "source": [
    "plt.figure(figsize = (10, 8))\n",
    "plt.plot(x_label, resistance_values)\n",
    "plt.xlabel(\"Steps\")\n",
    "plt.ylabel(\"Resistance\")\n",
    "plt.title(\"Resistance Values\")\n",
    "plt.savefig(\"resistance_values.jpeg\")"
   ]
  },
  {
   "cell_type": "code",
   "execution_count": 21,
   "metadata": {},
   "outputs": [],
   "source": [
    "#combine_std_percent = [float(i) for i in combine_std_percent]\n",
    "resistance_values = [float(i) for i in resistance_values]"
   ]
  },
  {
   "cell_type": "code",
   "execution_count": 22,
   "metadata": {},
   "outputs": [],
   "source": [
    "combined_std = []\n",
    "for i in range(len(resistance_values)):\n",
    "    deltaSTD = resistance_values[i] * combine_std_percent[i]\n",
    "    combined_std.append(deltaSTD)"
   ]
  },
  {
   "cell_type": "code",
   "execution_count": 23,
   "metadata": {},
   "outputs": [],
   "source": [
    "linear_reg = LinearRegression()\n",
    "x = np.array(x_label)\n",
    "y = np.array(resistance_values)\n",
    "# fix shapes for regression\n",
    "x = x.reshape(-1, 1)\n",
    "y = y.reshape(-1, 1)\n",
    "linear_reg.fit(x, y)\n",
    "array = np.array(x_label).reshape(-1, 1)\n",
    "#array.shape\n",
    "y_head = linear_reg.predict(array)"
   ]
  },
  {
   "cell_type": "code",
   "execution_count": 24,
   "metadata": {},
   "outputs": [
    {
     "data": {
      "image/png": "[encoded data removed]",
      "text/plain": [
       "<Figure size 1008x576 with 1 Axes>"
      ]
     },
     "metadata": {
      "needs_background": "light"
     },
     "output_type": "display_data"
    }
   ],
   "source": [
    "plt.figure(figsize = (14, 8))\n",
    "plt.plot(x_label, resistance_values, 'o', label = \"Resistance Values\")\n",
    "plt.errorbar(x_label, resistance_values, yerr = combined_std, fmt = ' ', capsize = 5)\n",
    "plt.plot(array, y_head, color = 'red', label = \"Regression Line\")\n",
    "plt.xlabel(\"Steps\")\n",
    "plt.ylabel(\"Resistance\")\n",
    "plt.legend()\n",
    "plt.grid(\"on\")\n",
    "plt.title(\"Resistance Plot with Error Bars\")\n",
    "plt.xticks(rotation=45)\n",
    "plt.savefig(\"res_plot_with_error_bars.jpeg\")"
   ]
  },
  {
   "cell_type": "code",
   "execution_count": 25,
   "metadata": {},
   "outputs": [],
   "source": [
    "dataFrame.to_csv ('C:\\\\Users\\\\aunal\\\\Downloads\\\\res_calc\\\\mean_std_values.csv', index = False, header = True)"
   ]
  },
  {
   "cell_type": "code",
   "execution_count": null,
   "metadata": {},
   "outputs": [],
   "source": []
  }
 ],
 "metadata": {
  "kernelspec": {
   "display_name": "Python 3",
   "language": "python",
   "name": "python3"
  },
  "language_info": {
   "codemirror_mode": {
    "name": "ipython",
    "version": 3
   },
   "file_extension": ".py",
   "mimetype": "text/x-python",
   "name": "python",
   "nbconvert_exporter": "python",
   "pygments_lexer": "ipython3",
   "version": "3.8.3"
  }
 },
 "nbformat": 4,
 "nbformat_minor": 4
}
